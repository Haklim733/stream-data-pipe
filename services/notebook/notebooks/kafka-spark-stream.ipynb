{
 "cells": [
  {
   "cell_type": "code",
   "execution_count": 1,
   "metadata": {},
   "outputs": [],
   "source": [
    "#jupyter_vim"
   ]
  },
  {
   "cell_type": "code",
   "execution_count": null,
   "metadata": {},
   "outputs": [],
   "source": [
    "### run ./scripts/run-spark-streaming.sh at project root\n"
   ]
  },
  {
   "cell_type": "code",
   "execution_count": 2,
   "metadata": {},
   "outputs": [
    {
     "name": "stdout",
     "output_type": "stream",
     "text": [
      "kafka-clients-3.4.1.jar\n",
      "spark-sql-kafka-0-10_2.12-3.5.4.jar\n",
      "spark-token-provider-kafka-0-10_2.12-3.5.4.jar\n"
     ]
    }
   ],
   "source": [
    "! ls /opt/spark/jars | grep kafka"
   ]
  },
  {
   "cell_type": "code",
   "execution_count": 1,
   "metadata": {
    "vscode": {
     "languageId": "plaintext"
    }
   },
   "outputs": [],
   "source": [
    "from pyspark.sql import SparkSession\n",
    "\n",
    "# Create a SparkSession\n",
    "jars = [\"org.apache.spark:spark-sql-kafka-0-10_2.12:3.5.4\"]\n",
    "spark = SparkSession.builder.appName(\"KafkaStreaming\")\\\n",
    "     .master(\"local[*]\") \\\n",
    "    .config(\"spark.streaming.stopGracefullyOnShutdown\", \"true\") \\\n",
    "    .config(\"spark.sql.streaming.schemaInference\", \"true\") \\\n",
    "    .config(\"spark.jars.packages\", \",\".join(jars)) \\\n",
    "    .getOrCreate()\n",
    "\n",
    "#    .config(\"spark.jars\", \"/opt/spark/jars/kafka-clients-3.4.1.jar\") \\\n",
    "spark.sparkContext.setLogLevel(\"INFO\")\n",
    "\n",
    "# Set up the Kafka configuration\n",
    "kafka_bootstrap_servers = \"kafka-broker:9092\"\n",
    "kafka_topic = \"brothers-karamazov\""
   ]
  },
  {
   "cell_type": "code",
   "execution_count": 1,
   "metadata": {},
   "outputs": [],
   "source": [
    "df = spark.read.text(\"/home/app/spark-stream/*.txt\")"
   ]
  },
  {
   "cell_type": "code",
   "execution_count": 2,
   "metadata": {},
   "outputs": [
    {
     "data": {
      "text/plain": [
       "[Row(value='signal of five knocks means Agrafena Alexandrovna has come, while the'),\n",
       " Row(value='second signal of three knocks means ‘something important to tell you.’'),\n",
       " Row(value='His honor has shown me them several times and explained them. And as in'),\n",
       " Row(value='the whole universe no one knows of these signals but myself and his'),\n",
       " Row(value='honor, so he’d open the door without the slightest hesitation and'),\n",
       " Row(value='without calling out (he is awfully afraid of calling out aloud). Well,'),\n",
       " Row(value='those signals are known to Dmitri Fyodorovitch too, now.”'),\n",
       " Row(value=''),\n",
       " Row(value='“How are they known? Did you tell him? How dared you tell him?”'),\n",
       " Row(value=''),\n",
       " Row(value='“It was through fright I did it. How could I dare to keep it back from'),\n",
       " Row(value='him? Dmitri Fyodorovitch kept persisting every day, ‘You are deceiving'),\n",
       " Row(value='me, you are hiding something from me! I’ll break both your legs for'),\n",
       " Row(value='you.’ So I told him those secret signals that he might see my slavish'),\n",
       " Row(value='devotion, and might be satisfied that I was not deceiving him, but was'),\n",
       " Row(value='telling him all I could.”'),\n",
       " Row(value=''),\n",
       " Row(value='“If you think that he’ll make use of those signals and try to get in,'),\n",
       " Row(value='don’t let him in.”'),\n",
       " Row(value='')]"
      ]
     },
     "execution_count": 2,
     "metadata": {},
     "output_type": "execute_result"
    }
   ],
   "source": [
    "df.head(20)"
   ]
  }
 ],
 "metadata": {
  "kernelspec": {
   "display_name": "Python 3 (ipykernel)",
   "language": "python",
   "name": "python3"
  },
  "language_info": {
   "codemirror_mode": {
    "name": "ipython",
    "version": 3
   },
   "file_extension": ".py",
   "mimetype": "text/x-python",
   "name": "python",
   "nbconvert_exporter": "python",
   "pygments_lexer": "ipython3",
   "version": "3.10.12"
  }
 },
 "nbformat": 4,
 "nbformat_minor": 4
}
