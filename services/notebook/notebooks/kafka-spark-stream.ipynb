{
 "cells": [
  {
   "cell_type": "code",
   "execution_count": null,
   "metadata": {},
   "outputs": [],
   "source": [
    "# start spark stream by running ./scripts/run-spark-stream.sh locally "
   ]
  },
  {
   "cell_type": "code",
   "execution_count": null,
   "metadata": {},
   "outputs": [],
   "source": [
    "import sys\n",
    "from session import create_spark_session\n",
    "from create_topic import main\n",
    "import datetime\n",
    "from kafka import KafkaConsumer\n",
    "\n",
    "spark = create_spark_session(app_name='kafka-stream')"
   ]
  },
  {
   "cell_type": "code",
   "execution_count": null,
   "metadata": {
    "vscode": {
     "languageId": "plaintext"
    }
   },
   "outputs": [],
   "source": [
    "# Create a SparkSession\n",
    "jars = [\"org.apache.spark:spark-sql-kafka-0-10_2.12:3.5.4\"]\n",
    "#    .config(\"spark.jars\", \"/opt/spark/jars/kafka-clients-3.4.1.jar\") \\\n",
    "# Set up the Kafka configuration\n",
    "BOOTSTRAP_SERVERS = \"kafka-broker:9092\"\n",
    "topic = 'message'"
   ]
  },
  {
   "cell_type": "code",
   "execution_count": null,
   "metadata": {},
   "outputs": [],
   "source": [
    "# Check what catalog is currently active\n",
    "print(f\"Current catalog: {spark.catalog.currentCatalog()}\")\n",
    "\n",
    "# List all available catalogs\n",
    "print(\"Available catalogs:\")\n",
    "spark.catalog.listCatalogs()\n",
    "\n",
    "# List all databases in the current catalog\n",
    "print(\"Databases in current catalog:\")\n",
    "spark.catalog.listDatabases()\n",
    "\n",
    "spark.sql(\"SHOW NAMESPACES;\").show()"
   ]
  },
  {
   "cell_type": "code",
   "execution_count": null,
   "metadata": {},
   "outputs": [],
   "source": [
    "# read from iceberg table using spark\n",
    "spark.sql(\"SELECT * FROM iceberg.spark.message LIMIT 10\").show()"
   ]
  },
  {
   "cell_type": "code",
   "execution_count": null,
   "metadata": {},
   "outputs": [],
   "source": [
    "spark.sql(\"SHOW TABLES in spark;\").show()"
   ]
  },
  {
   "cell_type": "code",
   "execution_count": null,
   "metadata": {},
   "outputs": [],
   "source": [
    "\n",
    "topic_name = 'message'\n",
    "consumer = KafkaConsumer(\n",
    "    topic,\n",
    "    bootstrap_servers=BOOTSTRAP_SERVERS,\n",
    "    auto_offset_reset=\"earliest\",  # Start from the beginning\n",
    "    enable_auto_commit=False,\n",
    "    group_id=\"python-consumer-group\",\n",
    "    value_deserializer=lambda x: x.decode(\"utf-8\"),  # Decode bytes to string\n",
    ")\n",
    "\n",
    "print(\"✅ Successfully connected to Kafka!\")\n",
    "print(f\"📋 Consumer group: python-consumer-group\")\n",
    "print(f\"🔄 Auto offset reset: earliest\")\n",
    "print(\"=\" * 50)\n"
   ]
  },
  {
   "cell_type": "code",
   "execution_count": null,
   "metadata": {},
   "outputs": [],
   "source": [
    "message_count = 0\n",
    "\n",
    "max_messages = 10\n",
    "# Consume messages\n",
    "for message in consumer:\n",
    "    message_count += 1\n",
    "\n",
    "    print(f\"📨 Message #{message_count}\")\n",
    "    print(f\"   Topic: {message.topic}\")\n",
    "    print(f\"   Partition: {message.partition}\")\n",
    "    print(f\"   Offset: {message.offset}\")\n",
    "    print(f\"   Key: {message.key}\")\n",
    "    print(f\"   Value: {message.value}\")\n",
    "    print(\"-\" * 30)\n",
    "\n",
    "    # Stop after max_messages if specified\n",
    "    if max_messages and message_count >= max_messages:\n",
    "        print(f\"✅ Consumed {message_count} messages. Stopping...\")\n",
    "        break"
   ]
  },
  {
   "cell_type": "code",
   "execution_count": null,
   "metadata": {},
   "outputs": [],
   "source": []
  }
 ],
 "metadata": {
  "kernelspec": {
   "display_name": "Python 3 (ipykernel)",
   "language": "python",
   "name": "python3"
  },
  "language_info": {
   "codemirror_mode": {
    "name": "ipython",
    "version": 3
   },
   "file_extension": ".py",
   "mimetype": "text/x-python",
   "name": "python",
   "nbconvert_exporter": "python",
   "pygments_lexer": "ipython3",
   "version": "3.12.11"
  }
 },
 "nbformat": 4,
 "nbformat_minor": 4
}
