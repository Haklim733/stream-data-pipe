{
 "cells": [
  {
   "cell_type": "code",
   "execution_count": null,
   "metadata": {},
   "outputs": [],
   "source": [
    "# jupyter_vim"
   ]
  },
  {
   "cell_type": "code",
   "execution_count": null,
   "metadata": {},
   "outputs": [],
   "source": [
    "### run ./scripts/run-spark-streaming.sh at project root"
   ]
  },
  {
   "cell_type": "code",
   "execution_count": null,
   "metadata": {},
   "outputs": [],
   "source": [
    "! ls /opt/spark/jars | grep kafka\n",
    "! ls /opt/spark/jars | grep avro"
   ]
  },
  {
   "cell_type": "code",
   "execution_count": null,
   "metadata": {
    "vscode": {
     "languageId": "plaintext"
    }
   },
   "outputs": [],
   "source": [
    "from pyspark.sql import SparkSession\n",
    "from pyspark.sql.types import StructType, StructField, StringType\n",
    "\n",
    "# Create a SparkSession\n",
    "jars = [\"org.apache.spark:spark-sql-kafka-0-10_2.12:3.5.4\"]\n",
    "spark = SparkSession.builder.appName(\"KafkaStreaming\")\\\n",
    "     .master(\"local[*]\") \\\n",
    "    .config(\"spark.streaming.stopGracefullyOnShutdown\", \"true\") \\\n",
    "    .config(\"spark.sql.streaming.schemaInference\", \"true\") \\\n",
    "    .config(\"spark.jars.packages\", \",\".join(jars)) \\\n",
    "    .getOrCreate()\n",
    "\n",
    "#    .config(\"spark.jars\", \"/opt/spark/jars/kafka-clients-3.4.1.jar\") \\\n",
    "spark.sparkContext.setLogLevel(\"INFO\")\n",
    "\n",
    "# Set up the Kafka configuration\n",
    "kafka_bootstrap_servers = \"kafka-broker:9092\"\n",
    "kafka_topic = \"brothers-karamazov\""
   ]
  },
  {
   "cell_type": "code",
   "execution_count": null,
   "metadata": {},
   "outputs": [],
   "source": [
    "! ls /home/app/output"
   ]
  },
  {
   "cell_type": "code",
   "execution_count": null,
   "metadata": {},
   "outputs": [],
   "source": [
    "# text format messages"
   ]
  },
  {
   "cell_type": "code",
   "execution_count": null,
   "metadata": {},
   "outputs": [],
   "source": [
    "if any(file.endswith(\".txt\") for file in os.listdir(\"/home/app/output/\")):\n",
    "    spark.read.format(\"text\").load(\"/home/app/output/*.text\").head(5)"
   ]
  },
  {
   "cell_type": "code",
   "execution_count": null,
   "metadata": {},
   "outputs": [],
   "source": [
    "# avro format messages"
   ]
  },
  {
   "cell_type": "code",
   "execution_count": null,
   "metadata": {},
   "outputs": [],
   "source": [
    "schema = StructType(\n",
    "    [\n",
    "        StructField(\"line\", StringType(), True),\n",
    "    ]\n",
    ")\n",
    "if any(file.endswith(\".avro\") for file in os.listdir(\"/home/app/output/\")):\n",
    "    spark.read.format(\"avro\").option(\"schema\", schema).load(\n",
    "        \"/home/app/output/*.avro\"\n",
    "    ).show(20, truncate=False)"
   ]
  },
  {
   "cell_type": "code",
   "execution_count": null,
   "metadata": {},
   "outputs": [],
   "source": [
    "import pathlib\n",
    "\n",
    "for f in pathlib.Path(\"/home/app/output\").glob(\"*\"):\n",
    "    file_size = f.stat().st_size\n",
    "    print(f\"File: {f}, Size: {file_size / 1024 / 1024} MB\")"
   ]
  },
  {
   "cell_type": "code",
   "execution_count": null,
   "metadata": {},
   "outputs": [],
   "source": []
  }
 ],
 "metadata": {
  "kernelspec": {
   "display_name": "Python 3 (ipykernel)",
   "language": "python",
   "name": "python3"
  },
  "language_info": {
   "codemirror_mode": {
    "name": "ipython",
    "version": 3
   },
   "file_extension": ".py",
   "mimetype": "text/x-python",
   "name": "python",
   "nbconvert_exporter": "python",
   "pygments_lexer": "ipython3",
   "version": "3.10.12"
  }
 },
 "nbformat": 4,
 "nbformat_minor": 4
}
