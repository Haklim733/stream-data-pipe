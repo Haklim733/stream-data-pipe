{
 "cells": [
  {
   "cell_type": "code",
   "execution_count": null,
   "metadata": {},
   "outputs": [],
   "source": [
    "# jupyter_vim\n",
    "# docker-compose-rw.yaml automatically spins up containers (see generator service) that publishes messages to the kafka topic"
   ]
  },
  {
   "cell_type": "code",
   "execution_count": null,
   "metadata": {},
   "outputs": [],
   "source": [
    "! export PYTHONPATH=../risingwave:$PYTHONPATH && python ../risingwave/src/main.py --topic=message --bootstrap-servers=kafka-broker:9092 --schema='{\"message\": \"VARCHAR\",\"created_at\": \"TIMESTAMP\", \"id\": \"VARCHAR\"}' --source='kafka'"
   ]
  },
  {
   "cell_type": "code",
   "execution_count": null,
   "metadata": {},
   "outputs": [],
   "source": [
    "import psycopg2\n",
    "import pandas as pd\n",
    "\n",
    "conn = psycopg2.connect(host=\"risingwave\", port=4566, user=\"root\", dbname=\"dev\")\n",
    "conn.autocommit = True\n",
    "topic = \"message\"  # same as source name"
   ]
  },
  {
   "cell_type": "code",
   "execution_count": null,
   "metadata": {},
   "outputs": [],
   "source": [
    "with conn.cursor() as cur:\n",
    "    cur.execute(f\"SELECT kafka_timestamp, created_at, message, id FROM {topic};\")\n",
    "    values = cur.fetchall()"
   ]
  },
  {
   "cell_type": "code",
   "execution_count": null,
   "metadata": {},
   "outputs": [],
   "source": [
    "df = pd.DataFrame(values, columns=[\"timestamp\", \"created_at\", \"message\", \"id\"])\n",
    "df.tail(5)"
   ]
  },
  {
   "cell_type": "code",
   "execution_count": null,
   "metadata": {},
   "outputs": [],
   "source": [
    "df.timestamp.dt.floor(\"s\").sort_values().unique()"
   ]
  },
  {
   "cell_type": "code",
   "execution_count": null,
   "metadata": {},
   "outputs": [],
   "source": [
    "df.created_at.dt.floor(\"s\").sort_values().unique()"
   ]
  },
  {
   "cell_type": "code",
   "execution_count": null,
   "metadata": {},
   "outputs": [],
   "source": [
    "# create materialized view\n",
    "with conn.cursor() as cur:\n",
    "    cur.execute(f\"DROP MATERIALIZED VIEW IF EXISTS {topic}_view\")\n",
    "    cur.execute(\n",
    "        f\"\"\"\n",
    "        CREATE MATERIALIZED VIEW {topic}_view AS\n",
    "        SELECT\n",
    "            date_trunc('second', created_at) AS window_start,\n",
    "            SUM(LENGTH(message)) AS total_characters,\n",
    "            count(*) AS total_messages\n",
    "        FROM\n",
    "            {topic} \n",
    "        GROUP BY\n",
    "            window_start\n",
    "        \"\"\"\n",
    "    )"
   ]
  },
  {
   "cell_type": "code",
   "execution_count": null,
   "metadata": {},
   "outputs": [],
   "source": [
    "with conn.cursor() as cur:\n",
    "    cur.execute(f\"SELECT * FROM {topic}_view ORDER BY window_start;\")\n",
    "    values = cur.fetchall()\n",
    "pd.DataFrame(\n",
    "    values, columns=[\"timestamp\", \"total_characters\", \"total_lines\"]\n",
    ").sort_values(\"timestamp\")"
   ]
  },
  {
   "cell_type": "code",
   "execution_count": null,
   "metadata": {},
   "outputs": [],
   "source": [
    "import duckdb\n",
    "\n",
    "con = duckdb.connect()\n",
    "con.sql(\n",
    "    f\"\"\"\n",
    "    INSTALL postgres;\n",
    "    LOAD postgres;  \n",
    "    ATTACH 'host=risingwave port=4566 dbname=dev user=root' AS db (TYPE postgres);  \n",
    "\"\"\"\n",
    ")\n",
    "con.sql(\"SHOW DATABASES;\")"
   ]
  },
  {
   "cell_type": "code",
   "execution_count": null,
   "metadata": {},
   "outputs": [],
   "source": [
    "# TODO\n",
    "# con.sql(f\"SELECT * FROM db.public.{topic}_view ORDER BY window_start;\")"
   ]
  }
 ],
 "metadata": {
  "kernelspec": {
   "display_name": "Python 3 (ipykernel)",
   "language": "python",
   "name": "python3"
  },
  "language_info": {
   "codemirror_mode": {
    "name": "ipython",
    "version": 3
   },
   "file_extension": ".py",
   "mimetype": "text/x-python",
   "name": "python",
   "nbconvert_exporter": "python",
   "pygments_lexer": "ipython3",
   "version": "3.10.12"
  }
 },
 "nbformat": 4,
 "nbformat_minor": 4
}
