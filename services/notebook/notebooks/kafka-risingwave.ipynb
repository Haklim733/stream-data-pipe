{
 "cells": [
  {
   "cell_type": "code",
   "execution_count": null,
   "metadata": {},
   "outputs": [],
   "source": [
    "# jupyter_vim"
   ]
  },
  {
   "cell_type": "code",
   "execution_count": 1,
   "metadata": {},
   "outputs": [],
   "source": [
    "# Run Script below\n",
    "! export PYTHONPATH=../risingwave:$PYTHONPATH && python ../risingwave/src/main.py --topic=book --bootstrap-servers=kafka-broker:9092 --schema='{\"line\": \"INTEGER\",\"text\": \"VARCHAR\"}' --source='kafka'"
   ]
  },
  {
   "cell_type": "code",
   "execution_count": 2,
   "metadata": {},
   "outputs": [],
   "source": [
    "import psycopg2\n",
    "import pandas as pd\n",
    "\n",
    "conn = psycopg2.connect(host=\"risingwave\", port=4566, user=\"root\", dbname=\"dev\")\n",
    "conn.autocommit = True"
   ]
  },
  {
   "cell_type": "code",
   "execution_count": 3,
   "metadata": {},
   "outputs": [],
   "source": [
    "with conn.cursor() as cur:\n",
    "    cur.execute(\"SELECT kafka_timestamp, line, text FROM kafka_view LIMIT 10;\")\n",
    "    values = cur.fetchall()"
   ]
  },
  {
   "cell_type": "code",
   "execution_count": 4,
   "metadata": {},
   "outputs": [
    {
     "data": {
      "text/html": [
       "<div>\n",
       "<style scoped>\n",
       "    .dataframe tbody tr th:only-of-type {\n",
       "        vertical-align: middle;\n",
       "    }\n",
       "\n",
       "    .dataframe tbody tr th {\n",
       "        vertical-align: top;\n",
       "    }\n",
       "\n",
       "    .dataframe thead th {\n",
       "        text-align: right;\n",
       "    }\n",
       "</style>\n",
       "<table border=\"1\" class=\"dataframe\">\n",
       "  <thead>\n",
       "    <tr style=\"text-align: right;\">\n",
       "      <th></th>\n",
       "      <th>timestamp</th>\n",
       "      <th>line</th>\n",
       "      <th>text</th>\n",
       "    </tr>\n",
       "  </thead>\n",
       "  <tbody>\n",
       "    <tr>\n",
       "      <th>0</th>\n",
       "      <td>2025-03-08 05:39:39.926000+00:00</td>\n",
       "      <td>1</td>\n",
       "      <td>The Project Gutenberg eBook of The Brothers Ka...</td>\n",
       "    </tr>\n",
       "    <tr>\n",
       "      <th>1</th>\n",
       "      <td>2025-03-08 05:39:39.926000+00:00</td>\n",
       "      <td>2</td>\n",
       "      <td></td>\n",
       "    </tr>\n",
       "    <tr>\n",
       "      <th>2</th>\n",
       "      <td>2025-03-08 05:39:39.926000+00:00</td>\n",
       "      <td>3</td>\n",
       "      <td>This ebook is for the use of anyone anywhere i...</td>\n",
       "    </tr>\n",
       "    <tr>\n",
       "      <th>3</th>\n",
       "      <td>2025-03-08 05:39:39.926000+00:00</td>\n",
       "      <td>4</td>\n",
       "      <td>most other parts of the world at no cost and w...</td>\n",
       "    </tr>\n",
       "    <tr>\n",
       "      <th>4</th>\n",
       "      <td>2025-03-08 05:39:39.926000+00:00</td>\n",
       "      <td>5</td>\n",
       "      <td>whatsoever. You may copy it, give it away or r...</td>\n",
       "    </tr>\n",
       "    <tr>\n",
       "      <th>5</th>\n",
       "      <td>2025-03-08 05:39:39.926000+00:00</td>\n",
       "      <td>6</td>\n",
       "      <td>of the Project Gutenberg License included with...</td>\n",
       "    </tr>\n",
       "    <tr>\n",
       "      <th>6</th>\n",
       "      <td>2025-03-08 05:39:39.926000+00:00</td>\n",
       "      <td>7</td>\n",
       "      <td>at www.gutenberg.org. If you are not located i...</td>\n",
       "    </tr>\n",
       "    <tr>\n",
       "      <th>7</th>\n",
       "      <td>2025-03-08 05:39:39.926000+00:00</td>\n",
       "      <td>8</td>\n",
       "      <td>you will have to check the laws of the country...</td>\n",
       "    </tr>\n",
       "    <tr>\n",
       "      <th>8</th>\n",
       "      <td>2025-03-08 05:39:39.926000+00:00</td>\n",
       "      <td>9</td>\n",
       "      <td>before using this eBook.</td>\n",
       "    </tr>\n",
       "    <tr>\n",
       "      <th>9</th>\n",
       "      <td>2025-03-08 05:39:39.926000+00:00</td>\n",
       "      <td>10</td>\n",
       "      <td></td>\n",
       "    </tr>\n",
       "  </tbody>\n",
       "</table>\n",
       "</div>"
      ],
      "text/plain": [
       "                         timestamp  line  \\\n",
       "0 2025-03-08 05:39:39.926000+00:00     1   \n",
       "1 2025-03-08 05:39:39.926000+00:00     2   \n",
       "2 2025-03-08 05:39:39.926000+00:00     3   \n",
       "3 2025-03-08 05:39:39.926000+00:00     4   \n",
       "4 2025-03-08 05:39:39.926000+00:00     5   \n",
       "5 2025-03-08 05:39:39.926000+00:00     6   \n",
       "6 2025-03-08 05:39:39.926000+00:00     7   \n",
       "7 2025-03-08 05:39:39.926000+00:00     8   \n",
       "8 2025-03-08 05:39:39.926000+00:00     9   \n",
       "9 2025-03-08 05:39:39.926000+00:00    10   \n",
       "\n",
       "                                                text  \n",
       "0  The Project Gutenberg eBook of The Brothers Ka...  \n",
       "1                                                     \n",
       "2  This ebook is for the use of anyone anywhere i...  \n",
       "3  most other parts of the world at no cost and w...  \n",
       "4  whatsoever. You may copy it, give it away or r...  \n",
       "5  of the Project Gutenberg License included with...  \n",
       "6  at www.gutenberg.org. If you are not located i...  \n",
       "7  you will have to check the laws of the country...  \n",
       "8                           before using this eBook.  \n",
       "9                                                     "
      ]
     },
     "execution_count": 4,
     "metadata": {},
     "output_type": "execute_result"
    }
   ],
   "source": [
    "pd.DataFrame(values, columns=[\"timestamp\", \"line\", \"text\"])"
   ]
  },
  {
   "cell_type": "code",
   "execution_count": 5,
   "metadata": {},
   "outputs": [
    {
     "ename": "Error",
     "evalue": "Failed to execute query \"BEGIN TRANSACTION ISOLATION LEVEL REPEATABLE READ;\n\nSELECT oid, nspname\nFROM pg_namespace\n\nORDER BY oid;\n\nSELECT pg_namespace.oid AS namespace_id, relname, relpages, attname,\n    pg_type.typname type_name, atttypmod type_modifier, pg_attribute.attndims ndim,\n    attnum, pg_attribute.attnotnull AS notnull, NULL constraint_id,\n    NULL constraint_type, NULL constraint_key\nFROM pg_class\nJOIN pg_namespace ON relnamespace = pg_namespace.oid\nJOIN pg_attribute ON pg_class.oid=pg_attribute.attrelid\nJOIN pg_type ON atttypid=pg_type.oid\nWHERE attnum > 0 AND relkind IN ('r', 'v', 'm', 'f', 'p') \nUNION ALL\nSELECT pg_namespace.oid AS namespace_id, relname, NULL relpages, NULL attname, NULL type_name,\n    NULL type_modifier, NULL ndim, NULL attnum, NULL AS notnull,\n    pg_constraint.oid AS constraint_id, contype AS constraint_type,\n    conkey AS constraint_key\nFROM pg_class\nJOIN pg_namespace ON relnamespace = pg_namespace.oid\nJOIN pg_constraint ON (pg_class.oid=pg_constraint.conrelid)\nWHERE relkind IN ('r', 'v', 'm', 'f', 'p') AND contype IN ('p', 'u') \nORDER BY namespace_id, relname, attnum, constraint_id;\n\nSELECT n.oid, enumtypid, typname, enumlabel\nFROM pg_enum e\nJOIN pg_type t ON e.enumtypid = t.oid\nJOIN pg_namespace AS n ON (typnamespace=n.oid)\n\nORDER BY n.oid, enumtypid, enumsortorder;\n\nSELECT n.oid, t.typrelid AS id, t.typname as type, pg_attribute.attname, sub_type.typname\nFROM pg_type t\nJOIN pg_catalog.pg_namespace n ON n.oid = t.typnamespace\nJOIN pg_class ON pg_class.oid = t.typrelid\nJOIN pg_attribute ON attrelid=t.typrelid\nJOIN pg_type sub_type ON (pg_attribute.atttypid=sub_type.oid)\nWHERE pg_class.relkind = 'c'\nAND t.typtype='c'\n\nORDER BY n.oid, t.oid, attrelid, attnum;\n\nSELECT pg_namespace.oid, tablename, indexname\nFROM pg_indexes\nJOIN pg_namespace ON (schemaname=nspname)\n\nORDER BY pg_namespace.oid;\n\": ERROR:  Failed to run the query\n\nCaused by these errors (recent errors listed first):\n  1: Failed to bind expression: relpages\n  2: Item not found: Invalid column: relpages\n\n",
     "output_type": "error",
     "traceback": [
      "\u001b[0;31m---------------------------------------------------------------------------\u001b[0m",
      "\u001b[0;31mError\u001b[0m                                     Traceback (most recent call last)",
      "File \u001b[0;32m/usr/local/lib/python3.10/dist-packages/IPython/core/formatters.py:770\u001b[0m, in \u001b[0;36mPlainTextFormatter.__call__\u001b[0;34m(self, obj)\u001b[0m\n\u001b[1;32m    763\u001b[0m stream \u001b[38;5;241m=\u001b[39m StringIO()\n\u001b[1;32m    764\u001b[0m printer \u001b[38;5;241m=\u001b[39m pretty\u001b[38;5;241m.\u001b[39mRepresentationPrinter(stream, \u001b[38;5;28mself\u001b[39m\u001b[38;5;241m.\u001b[39mverbose,\n\u001b[1;32m    765\u001b[0m     \u001b[38;5;28mself\u001b[39m\u001b[38;5;241m.\u001b[39mmax_width, \u001b[38;5;28mself\u001b[39m\u001b[38;5;241m.\u001b[39mnewline,\n\u001b[1;32m    766\u001b[0m     max_seq_length\u001b[38;5;241m=\u001b[39m\u001b[38;5;28mself\u001b[39m\u001b[38;5;241m.\u001b[39mmax_seq_length,\n\u001b[1;32m    767\u001b[0m     singleton_pprinters\u001b[38;5;241m=\u001b[39m\u001b[38;5;28mself\u001b[39m\u001b[38;5;241m.\u001b[39msingleton_printers,\n\u001b[1;32m    768\u001b[0m     type_pprinters\u001b[38;5;241m=\u001b[39m\u001b[38;5;28mself\u001b[39m\u001b[38;5;241m.\u001b[39mtype_printers,\n\u001b[1;32m    769\u001b[0m     deferred_pprinters\u001b[38;5;241m=\u001b[39m\u001b[38;5;28mself\u001b[39m\u001b[38;5;241m.\u001b[39mdeferred_printers)\n\u001b[0;32m--> 770\u001b[0m \u001b[43mprinter\u001b[49m\u001b[38;5;241;43m.\u001b[39;49m\u001b[43mpretty\u001b[49m\u001b[43m(\u001b[49m\u001b[43mobj\u001b[49m\u001b[43m)\u001b[49m\n\u001b[1;32m    771\u001b[0m printer\u001b[38;5;241m.\u001b[39mflush()\n\u001b[1;32m    772\u001b[0m \u001b[38;5;28;01mreturn\u001b[39;00m stream\u001b[38;5;241m.\u001b[39mgetvalue()\n",
      "File \u001b[0;32m/usr/local/lib/python3.10/dist-packages/IPython/lib/pretty.py:419\u001b[0m, in \u001b[0;36mRepresentationPrinter.pretty\u001b[0;34m(self, obj)\u001b[0m\n\u001b[1;32m    408\u001b[0m                         \u001b[38;5;28;01mreturn\u001b[39;00m meth(obj, \u001b[38;5;28mself\u001b[39m, cycle)\n\u001b[1;32m    409\u001b[0m                 \u001b[38;5;28;01mif\u001b[39;00m (\n\u001b[1;32m    410\u001b[0m                     \u001b[38;5;28mcls\u001b[39m \u001b[38;5;129;01mis\u001b[39;00m \u001b[38;5;129;01mnot\u001b[39;00m \u001b[38;5;28mobject\u001b[39m\n\u001b[1;32m    411\u001b[0m                     \u001b[38;5;66;03m# check if cls defines __repr__\u001b[39;00m\n\u001b[0;32m   (...)\u001b[0m\n\u001b[1;32m    417\u001b[0m                     \u001b[38;5;129;01mand\u001b[39;00m \u001b[38;5;28mcallable\u001b[39m(_safe_getattr(\u001b[38;5;28mcls\u001b[39m, \u001b[38;5;124m\"\u001b[39m\u001b[38;5;124m__repr__\u001b[39m\u001b[38;5;124m\"\u001b[39m, \u001b[38;5;28;01mNone\u001b[39;00m))\n\u001b[1;32m    418\u001b[0m                 ):\n\u001b[0;32m--> 419\u001b[0m                     \u001b[38;5;28;01mreturn\u001b[39;00m \u001b[43m_repr_pprint\u001b[49m\u001b[43m(\u001b[49m\u001b[43mobj\u001b[49m\u001b[43m,\u001b[49m\u001b[43m \u001b[49m\u001b[38;5;28;43mself\u001b[39;49m\u001b[43m,\u001b[49m\u001b[43m \u001b[49m\u001b[43mcycle\u001b[49m\u001b[43m)\u001b[49m\n\u001b[1;32m    421\u001b[0m     \u001b[38;5;28;01mreturn\u001b[39;00m _default_pprint(obj, \u001b[38;5;28mself\u001b[39m, cycle)\n\u001b[1;32m    422\u001b[0m \u001b[38;5;28;01mfinally\u001b[39;00m:\n",
      "File \u001b[0;32m/usr/local/lib/python3.10/dist-packages/IPython/lib/pretty.py:794\u001b[0m, in \u001b[0;36m_repr_pprint\u001b[0;34m(obj, p, cycle)\u001b[0m\n\u001b[1;32m    792\u001b[0m \u001b[38;5;250m\u001b[39m\u001b[38;5;124;03m\"\"\"A pprint that just redirects to the normal repr function.\"\"\"\u001b[39;00m\n\u001b[1;32m    793\u001b[0m \u001b[38;5;66;03m# Find newlines and replace them with p.break_()\u001b[39;00m\n\u001b[0;32m--> 794\u001b[0m output \u001b[38;5;241m=\u001b[39m \u001b[38;5;28;43mrepr\u001b[39;49m\u001b[43m(\u001b[49m\u001b[43mobj\u001b[49m\u001b[43m)\u001b[49m\n\u001b[1;32m    795\u001b[0m lines \u001b[38;5;241m=\u001b[39m output\u001b[38;5;241m.\u001b[39msplitlines()\n\u001b[1;32m    796\u001b[0m \u001b[38;5;28;01mwith\u001b[39;00m p\u001b[38;5;241m.\u001b[39mgroup():\n",
      "\u001b[0;31mError\u001b[0m: Failed to execute query \"BEGIN TRANSACTION ISOLATION LEVEL REPEATABLE READ;\n\nSELECT oid, nspname\nFROM pg_namespace\n\nORDER BY oid;\n\nSELECT pg_namespace.oid AS namespace_id, relname, relpages, attname,\n    pg_type.typname type_name, atttypmod type_modifier, pg_attribute.attndims ndim,\n    attnum, pg_attribute.attnotnull AS notnull, NULL constraint_id,\n    NULL constraint_type, NULL constraint_key\nFROM pg_class\nJOIN pg_namespace ON relnamespace = pg_namespace.oid\nJOIN pg_attribute ON pg_class.oid=pg_attribute.attrelid\nJOIN pg_type ON atttypid=pg_type.oid\nWHERE attnum > 0 AND relkind IN ('r', 'v', 'm', 'f', 'p') \nUNION ALL\nSELECT pg_namespace.oid AS namespace_id, relname, NULL relpages, NULL attname, NULL type_name,\n    NULL type_modifier, NULL ndim, NULL attnum, NULL AS notnull,\n    pg_constraint.oid AS constraint_id, contype AS constraint_type,\n    conkey AS constraint_key\nFROM pg_class\nJOIN pg_namespace ON relnamespace = pg_namespace.oid\nJOIN pg_constraint ON (pg_class.oid=pg_constraint.conrelid)\nWHERE relkind IN ('r', 'v', 'm', 'f', 'p') AND contype IN ('p', 'u') \nORDER BY namespace_id, relname, attnum, constraint_id;\n\nSELECT n.oid, enumtypid, typname, enumlabel\nFROM pg_enum e\nJOIN pg_type t ON e.enumtypid = t.oid\nJOIN pg_namespace AS n ON (typnamespace=n.oid)\n\nORDER BY n.oid, enumtypid, enumsortorder;\n\nSELECT n.oid, t.typrelid AS id, t.typname as type, pg_attribute.attname, sub_type.typname\nFROM pg_type t\nJOIN pg_catalog.pg_namespace n ON n.oid = t.typnamespace\nJOIN pg_class ON pg_class.oid = t.typrelid\nJOIN pg_attribute ON attrelid=t.typrelid\nJOIN pg_type sub_type ON (pg_attribute.atttypid=sub_type.oid)\nWHERE pg_class.relkind = 'c'\nAND t.typtype='c'\n\nORDER BY n.oid, t.oid, attrelid, attnum;\n\nSELECT pg_namespace.oid, tablename, indexname\nFROM pg_indexes\nJOIN pg_namespace ON (schemaname=nspname)\n\nORDER BY pg_namespace.oid;\n\": ERROR:  Failed to run the query\n\nCaused by these errors (recent errors listed first):\n  1: Failed to bind expression: relpages\n  2: Item not found: Invalid column: relpages\n\n"
     ]
    }
   ],
   "source": [
    "import duckdb\n",
    "\n",
    "con = duckdb.connect()\n",
    "con.sql(\n",
    "    f\"\"\"\n",
    "    INSTALL postgres;\n",
    "    LOAD postgres;  \n",
    "    ATTACH 'host=risingwave port=4566 dbname=dev user=root' AS db (TYPE postgres);  \n",
    "\"\"\"\n",
    ")\n",
    "con.sql(\"SHOW DATABASES;\")\n",
    "con.sql(\"SHOW ALL TABLES;\")"
   ]
  },
  {
   "cell_type": "code",
   "execution_count": null,
   "metadata": {},
   "outputs": [],
   "source": []
  },
  {
   "cell_type": "code",
   "execution_count": null,
   "metadata": {},
   "outputs": [],
   "source": []
  }
 ],
 "metadata": {
  "kernelspec": {
   "display_name": "Python 3 (ipykernel)",
   "language": "python",
   "name": "python3"
  },
  "language_info": {
   "codemirror_mode": {
    "name": "ipython",
    "version": 3
   },
   "file_extension": ".py",
   "mimetype": "text/x-python",
   "name": "python",
   "nbconvert_exporter": "python",
   "pygments_lexer": "ipython3",
   "version": "3.10.12"
  }
 },
 "nbformat": 4,
 "nbformat_minor": 4
}
