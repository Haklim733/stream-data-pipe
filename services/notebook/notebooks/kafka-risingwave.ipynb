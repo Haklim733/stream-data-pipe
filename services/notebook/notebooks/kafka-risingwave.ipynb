{
 "cells": [
  {
   "cell_type": "code",
   "execution_count": null,
   "metadata": {},
   "outputs": [],
   "source": [
    "# jupyter_vim"
   ]
  },
  {
   "cell_type": "code",
   "execution_count": null,
   "metadata": {},
   "outputs": [],
   "source": [
    "# Run Script below\n",
    "! python /home/app/kafka/src/create_topic.py --topic=book --file=/home/app/data/brothers-karamazov.txt --format=json"
   ]
  },
  {
   "cell_type": "code",
   "execution_count": null,
   "metadata": {},
   "outputs": [],
   "source": [
    "\n",
    "! export PYTHONPATH=../risingwave:$PYTHONPATH && python ../risingwave/src/main.py --topic=book --bootstrap-servers=kafka-broker:9092 --schema='{\"line\": \"INTEGER\",\"text\": \"VARCHAR\"}' --source='kafka'\n"
   ]
  },
  {
   "cell_type": "code",
   "execution_count": 19,
   "metadata": {},
   "outputs": [],
   "source": [
    "import psycopg2\n",
    "import pandas as pd\n",
    "\n",
    "conn = psycopg2.connect(host=\"risingwave\", port=4566, user=\"root\", dbname=\"dev\")\n",
    "conn.autocommit = True"
   ]
  },
  {
   "cell_type": "code",
   "execution_count": 20,
   "metadata": {},
   "outputs": [],
   "source": [
    "with conn.cursor() as cur:\n",
    "    cur.execute(\"SELECT kafka_timestamp, line, text FROM book LIMIT 10;\")\n",
    "    values = cur.fetchall()"
   ]
  },
  {
   "cell_type": "code",
   "execution_count": null,
   "metadata": {},
   "outputs": [],
   "source": [
    "pd.DataFrame(values, columns=[\"timestamp\", \"line\", \"text\"])"
   ]
  },
  {
   "cell_type": "code",
   "execution_count": null,
   "metadata": {},
   "outputs": [],
   "source": [
    "# create materialized view\n",
    "with conn.cursor() as cur:\n",
    "    cur.execute(\"DROP MATERIALIZED VIEW IF EXISTS book_view\")\n",
    "    cur.execute(\n",
    "        \"\"\"\n",
    "        CREATE MATERIALIZED VIEW book_view AS\n",
    "        SELECT\n",
    "            date_trunc('second', kafka_timestamp) AS window_start,\n",
    "            SUM(LENGTH(text)) AS total_characters,\n",
    "            count(*) AS total_lines\n",
    "        FROM\n",
    "            book\n",
    "        GROUP BY\n",
    "            window_start;\n",
    "        \"\"\"\n",
    "    )"
   ]
  },
  {
   "cell_type": "code",
   "execution_count": null,
   "metadata": {},
   "outputs": [],
   "source": [
    "with conn.cursor() as cur:\n",
    "    cur.execute(\"SELECT * FROM book_view;\")\n",
    "    values = cur.fetchall()\n",
    "pd.DataFrame(values, columns=[\"timestamp\", \"total_characters\", \"total_lines\"])"
   ]
  },
  {
   "cell_type": "code",
   "execution_count": null,
   "metadata": {},
   "outputs": [],
   "source": [
    "import duckdb\n",
    "\n",
    "con = duckdb.connect()\n",
    "con.sql(\n",
    "    f\"\"\"\n",
    "    INSTALL postgres;\n",
    "    LOAD postgres;  \n",
    "    ATTACH 'host=risingwave port=4566 dbname=dev user=root' AS db (TYPE postgres);  \n",
    "\"\"\"\n",
    ")\n",
    "con.sql(\"SHOW DATABASES;\")\n",
    "con.sql(\"SHOW ALL TABLES;\")"
   ]
  }
 ],
 "metadata": {
  "kernelspec": {
   "display_name": "Python 3 (ipykernel)",
   "language": "python",
   "name": "python3"
  },
  "language_info": {
   "codemirror_mode": {
    "name": "ipython",
    "version": 3
   },
   "file_extension": ".py",
   "mimetype": "text/x-python",
   "name": "python",
   "nbconvert_exporter": "python",
   "pygments_lexer": "ipython3",
   "version": "3.10.12"
  }
 },
 "nbformat": 4,
 "nbformat_minor": 4
}
