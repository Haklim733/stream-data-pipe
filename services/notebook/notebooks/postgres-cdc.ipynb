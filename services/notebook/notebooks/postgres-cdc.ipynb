{
 "cells": [
  {
   "cell_type": "code",
   "execution_count": null,
   "metadata": {},
   "outputs": [],
   "source": [
    "# jupyter_vim\n",
    "# docker-compose-cdc.yaml automatically spins up containers (see generator service) that publishes messages to the postgres database. Sequin stream cdc to kafka topic 'cdc'. See the sequin service at localhost:7376"
   ]
  },
  {
   "cell_type": "code",
   "execution_count": 1,
   "metadata": {},
   "outputs": [],
   "source": [
    "import psycopg2\n",
    "import pandas as pd\n",
    "\n",
    "conn = psycopg2.connect(\n",
    "    host=\"postgres\", port=5432, user=\"admin\", password=\"admin\", dbname=\"cdc\"\n",
    ")"
   ]
  },
  {
   "cell_type": "code",
   "execution_count": 2,
   "metadata": {},
   "outputs": [
    {
     "name": "stdout",
     "output_type": "stream",
     "text": [
      "[(84,)]\n"
     ]
    },
    {
     "data": {
      "text/html": [
       "<div>\n",
       "<style scoped>\n",
       "    .dataframe tbody tr th:only-of-type {\n",
       "        vertical-align: middle;\n",
       "    }\n",
       "\n",
       "    .dataframe tbody tr th {\n",
       "        vertical-align: top;\n",
       "    }\n",
       "\n",
       "    .dataframe thead th {\n",
       "        text-align: right;\n",
       "    }\n",
       "</style>\n",
       "<table border=\"1\" class=\"dataframe\">\n",
       "  <thead>\n",
       "    <tr style=\"text-align: right;\">\n",
       "      <th></th>\n",
       "      <th>event_id</th>\n",
       "      <th>origin_id</th>\n",
       "      <th>message</th>\n",
       "      <th>created_at</th>\n",
       "      <th>inserted_at</th>\n",
       "      <th>updated_at</th>\n",
       "    </tr>\n",
       "  </thead>\n",
       "  <tbody>\n",
       "    <tr>\n",
       "      <th>15</th>\n",
       "      <td>f168f80261e048808a634dc68f2ce283</td>\n",
       "      <td>70e7d3fd6ee2499cb161b2211a0e2261</td>\n",
       "      <td>Can expert feel believe tax field pick boy acc...</td>\n",
       "      <td>2025-03-18 19:13:21</td>\n",
       "      <td>2025-03-18 19:13:21.814118</td>\n",
       "      <td>2025-03-18 19:13:21.814118</td>\n",
       "    </tr>\n",
       "    <tr>\n",
       "      <th>16</th>\n",
       "      <td>c21d2fa106514be6b3cbf92a2cdf55b8</td>\n",
       "      <td>70e7d3fd6ee2499cb161b2211a0e2261</td>\n",
       "      <td>Act yourself raise machine them far manager ok...</td>\n",
       "      <td>2025-03-18 19:13:22</td>\n",
       "      <td>2025-03-18 19:13:22.815607</td>\n",
       "      <td>2025-03-18 19:13:22.815607</td>\n",
       "    </tr>\n",
       "    <tr>\n",
       "      <th>17</th>\n",
       "      <td>c08293ce92ff439eadb8c617c44da6b3</td>\n",
       "      <td>70e7d3fd6ee2499cb161b2211a0e2261</td>\n",
       "      <td>Easy poor nation network successful mother pro...</td>\n",
       "      <td>2025-03-18 19:13:23</td>\n",
       "      <td>2025-03-18 19:13:23.817098</td>\n",
       "      <td>2025-03-18 19:13:23.817098</td>\n",
       "    </tr>\n",
       "    <tr>\n",
       "      <th>18</th>\n",
       "      <td>56d6c1609d73481eb4d328af3e99aa86</td>\n",
       "      <td>70e7d3fd6ee2499cb161b2211a0e2261</td>\n",
       "      <td>Investment nature public easy out share night ...</td>\n",
       "      <td>2025-03-18 19:13:24</td>\n",
       "      <td>2025-03-18 19:13:24.819191</td>\n",
       "      <td>2025-03-18 19:13:24.819191</td>\n",
       "    </tr>\n",
       "    <tr>\n",
       "      <th>19</th>\n",
       "      <td>4e4d87fde7904b31871a544baf3380ac</td>\n",
       "      <td>70e7d3fd6ee2499cb161b2211a0e2261</td>\n",
       "      <td>Per drive investment cultural possible enter p...</td>\n",
       "      <td>2025-03-18 19:13:25</td>\n",
       "      <td>2025-03-18 19:13:25.820894</td>\n",
       "      <td>2025-03-18 19:13:25.820894</td>\n",
       "    </tr>\n",
       "  </tbody>\n",
       "</table>\n",
       "</div>"
      ],
      "text/plain": [
       "                            event_id                         origin_id  \\\n",
       "15  f168f80261e048808a634dc68f2ce283  70e7d3fd6ee2499cb161b2211a0e2261   \n",
       "16  c21d2fa106514be6b3cbf92a2cdf55b8  70e7d3fd6ee2499cb161b2211a0e2261   \n",
       "17  c08293ce92ff439eadb8c617c44da6b3  70e7d3fd6ee2499cb161b2211a0e2261   \n",
       "18  56d6c1609d73481eb4d328af3e99aa86  70e7d3fd6ee2499cb161b2211a0e2261   \n",
       "19  4e4d87fde7904b31871a544baf3380ac  70e7d3fd6ee2499cb161b2211a0e2261   \n",
       "\n",
       "                                              message          created_at  \\\n",
       "15  Can expert feel believe tax field pick boy acc... 2025-03-18 19:13:21   \n",
       "16  Act yourself raise machine them far manager ok... 2025-03-18 19:13:22   \n",
       "17  Easy poor nation network successful mother pro... 2025-03-18 19:13:23   \n",
       "18  Investment nature public easy out share night ... 2025-03-18 19:13:24   \n",
       "19  Per drive investment cultural possible enter p... 2025-03-18 19:13:25   \n",
       "\n",
       "                  inserted_at                 updated_at  \n",
       "15 2025-03-18 19:13:21.814118 2025-03-18 19:13:21.814118  \n",
       "16 2025-03-18 19:13:22.815607 2025-03-18 19:13:22.815607  \n",
       "17 2025-03-18 19:13:23.817098 2025-03-18 19:13:23.817098  \n",
       "18 2025-03-18 19:13:24.819191 2025-03-18 19:13:24.819191  \n",
       "19 2025-03-18 19:13:25.820894 2025-03-18 19:13:25.820894  "
      ]
     },
     "execution_count": 2,
     "metadata": {},
     "output_type": "execute_result"
    }
   ],
   "source": [
    "with conn.cursor() as cur:\n",
    "    cur.execute(f\"SELECT count(*) FROM messages;\")\n",
    "    print(cur.fetchall())\n",
    "    cur.execute(f\"SELECT * FROM messages LIMIT 20;\")\n",
    "    values = cur.fetchall()\n",
    "df = pd.DataFrame(\n",
    "    values,\n",
    "    columns=[\n",
    "        \"event_id\",\n",
    "        \"origin_id\",\n",
    "        \"message\",\n",
    "        \"created_at\",\n",
    "        \"inserted_at\",\n",
    "        \"updated_at\",\n",
    "    ],\n",
    ")\n",
    "df.tail(5)"
   ]
  },
  {
   "cell_type": "code",
   "execution_count": 3,
   "metadata": {},
   "outputs": [],
   "source": [
    "from kafka import KafkaConsumer, TopicPartition\n",
    "from kafka.admin import KafkaAdminClient, ConfigResource, ConfigResourceType\n",
    "\n",
    "\n",
    "bootstrap_servers = \"kafka-broker:9092\"\n",
    "\n",
    "admin_client = KafkaAdminClient(\n",
    "    bootstrap_servers=bootstrap_servers,\n",
    "    client_id=\"demo\",\n",
    ")\n",
    "topic = \"cdc\""
   ]
  },
  {
   "cell_type": "code",
   "execution_count": 12,
   "metadata": {},
   "outputs": [],
   "source": [
    "import json\n",
    "\n",
    "consumer_topic = KafkaConsumer(\n",
    "    topic,\n",
    "    bootstrap_servers=[\"kafka-broker:9092\"],\n",
    "    auto_offset_reset=\"earliest\",\n",
    "    enable_auto_commit=False,\n",
    "    consumer_timeout_ms=5000,\n",
    ")\n"
   ]
  },
  {
   "cell_type": "code",
   "execution_count": 13,
   "metadata": {},
   "outputs": [],
   "source": [
    "# Poll with a timeout (in milliseconds)\n",
    "timeout_ms = 5000\n",
    "while True:\n",
    "    # Poll for messages\n",
    "    message_batch = consumer_topic.poll(timeout_ms=timeout_ms)\n",
    "    \n",
    "    # If no messages received, break the loop\n",
    "    if not message_batch:\n",
    "        break\n",
    "    \n",
    "    # Process the messages\n",
    "    for partition_messages in message_batch.values():\n",
    "        for message in partition_messages:\n",
    "            decoded = json.loads(message.value.decode(\"utf-8\"))\n",
    "            if decoded[\"action\"] == \"insert\":\n",
    "                inserts.append(decoded)\n",
    "            elif decoded[\"action\"] == \"delete\":\n",
    "                deletions.append(decoded)\n",
    "            else:\n",
    "                print(decoded)\n",
    "            records.append(decoded)\n",
    "consumer_topic.close()"
   ]
  },
  {
   "cell_type": "code",
   "execution_count": 14,
   "metadata": {},
   "outputs": [
    {
     "name": "stdout",
     "output_type": "stream",
     "text": [
      "number of records: 360\n",
      "number of deletions: 0\n",
      "number of insertions: 360\n"
     ]
    }
   ],
   "source": [
    "print(\"number of records:\", len(records))\n",
    "print(\"number of deletions:\", len(deletions))\n",
    "print(\"number of insertions:\", len(inserts))"
   ]
  },
  {
   "cell_type": "code",
   "execution_count": 15,
   "metadata": {},
   "outputs": [],
   "source": [
    "def quick_topic_count(topic_name, bootstrap_servers=[\"kafka-broker:9092\"]):\n",
    "    consumer = KafkaConsumer(bootstrap_servers=bootstrap_servers)\n",
    "\n",
    "    # Get partition information\n",
    "    partitions = consumer.partitions_for_topic(topic_name)\n",
    "    if not partitions:\n",
    "        return 0\n",
    "\n",
    "    # Create TopicPartition objects\n",
    "    tps = [TopicPartition(topic_name, p) for p in partitions]\n",
    "\n",
    "    # Get end offsets (latest messages)\n",
    "    end_offsets = consumer.end_offsets(tps)\n",
    "\n",
    "    # Get beginning offsets (earliest messages)\n",
    "    beginning_offsets = consumer.beginning_offsets(tps)\n",
    "\n",
    "    # Calculate total\n",
    "    total = sum(end_offsets[tp] - beginning_offsets[tp] for tp in tps)\n",
    "\n",
    "    consumer.close()\n",
    "    return total"
   ]
  },
  {
   "cell_type": "code",
   "execution_count": 16,
   "metadata": {},
   "outputs": [
    {
     "data": {
      "text/plain": [
       "120"
      ]
     },
     "execution_count": 16,
     "metadata": {},
     "output_type": "execute_result"
    }
   ],
   "source": [
    "quick_topic_count(\"cdc\")"
   ]
  }
 ],
 "metadata": {
  "kernelspec": {
   "display_name": "Python 3 (ipykernel)",
   "language": "python",
   "name": "python3"
  },
  "language_info": {
   "codemirror_mode": {
    "name": "ipython",
    "version": 3
   },
   "file_extension": ".py",
   "mimetype": "text/x-python",
   "name": "python",
   "nbconvert_exporter": "python",
   "pygments_lexer": "ipython3",
   "version": "3.10.12"
  }
 },
 "nbformat": 4,
 "nbformat_minor": 4
}
