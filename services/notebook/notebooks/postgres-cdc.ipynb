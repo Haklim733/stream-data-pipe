{
 "cells": [
  {
   "cell_type": "code",
   "execution_count": null,
   "metadata": {},
   "outputs": [],
   "source": [
    "# jupyter_vim\n",
    "# docker-compose-cdc.yaml automatically spins up containers (see generator service) that publishes messages to the postgres database. Sequin stream cdc to kafka topic 'cdc'. See the sequin service at localhost:7376"
   ]
  },
  {
   "cell_type": "code",
   "execution_count": null,
   "metadata": {},
   "outputs": [],
   "source": [
    "import psycopg2\n",
    "import pandas as pd\n",
    "\n",
    "conn = psycopg2.connect(\n",
    "    host=\"postgres\", port=5432, user=\"admin\", password=\"admin\", dbname=\"cdc\"\n",
    ")"
   ]
  },
  {
   "cell_type": "code",
   "execution_count": null,
   "metadata": {},
   "outputs": [],
   "source": [
    "with conn.cursor() as cur:\n",
    "    cur.execute(f\"SELECT count(*) FROM messages;\")\n",
    "    print(cur.fetchall())\n",
    "    cur.execute(f\"SELECT * FROM messages LIMIT 20;\")\n",
    "    values = cur.fetchall()\n",
    "df = pd.DataFrame(\n",
    "    values,\n",
    "    columns=[\n",
    "        \"event_id\",\n",
    "        \"origin_id\",\n",
    "        \"message\",\n",
    "        \"created_at\",\n",
    "        \"inserted_at\",\n",
    "        \"updated_at\",\n",
    "    ],\n",
    ")\n",
    "df.tail(5)"
   ]
  },
  {
   "cell_type": "code",
   "execution_count": 3,
   "metadata": {},
   "outputs": [],
   "source": [
    "from kafka import KafkaConsumer, TopicPartition\n",
    "from kafka.admin import KafkaAdminClient, ConfigResource, ConfigResourceType\n",
    "\n",
    "\n",
    "bootstrap_servers = \"kafka-broker:9092\"\n",
    "\n",
    "admin_client = KafkaAdminClient(\n",
    "    bootstrap_servers=bootstrap_servers,\n",
    "    client_id=\"demo\",\n",
    ")\n",
    "topic = \"cdc\""
   ]
  },
  {
   "cell_type": "code",
   "execution_count": null,
   "metadata": {},
   "outputs": [],
   "source": [
    "import json\n",
    "\n",
    "consumer_topic = KafkaConsumer(\n",
    "    topic,\n",
    "    bootstrap_servers=[\"kafka-broker:9092\"],\n",
    "    auto_offset_reset=\"earliest\",\n",
    "    enable_auto_commit=False,\n",
    "    consumer_timeout_ms=5000,\n",
    ")\n",
    "inserts = []\n",
    "deletions = []\n",
    "rollbacks = []\n",
    "records = []\n",
    "for message in consumer_topic:\n",
    "    decoded = json.loads(message.value.decode(\"utf-8\"))\n",
    "    if decoded[\"action\"] == \"insert\":\n",
    "        inserts.append(decoded)\n",
    "    elif decoded[\"action\"] == \"delete\":\n",
    "        deletions.append(decoded)\n",
    "    else:\n",
    "        print(decoded)\n",
    "    records.append(decoded)\n",
    "\n",
    "print(\"number of records:\", len(records))\n",
    "print(\"number of deletions:\", len(deletions))\n",
    "print(\"number of insertions:\", len(insertions))\n",
    "consumer_topic.close()"
   ]
  },
  {
   "cell_type": "code",
   "execution_count": null,
   "metadata": {},
   "outputs": [],
   "source": [
    "def quick_topic_count(topic_name, bootstrap_servers=[\"kafka-broker:9092\"]):\n",
    "    consumer = KafkaConsumer(bootstrap_servers=bootstrap_servers)\n",
    "\n",
    "    # Get partition information\n",
    "    partitions = consumer.partitions_for_topic(topic_name)\n",
    "    if not partitions:\n",
    "        return 0\n",
    "\n",
    "    # Create TopicPartition objects\n",
    "    tps = [TopicPartition(topic_name, p) for p in partitions]\n",
    "\n",
    "    # Get end offsets (latest messages)\n",
    "    end_offsets = consumer.end_offsets(tps)\n",
    "\n",
    "    # Get beginning offsets (earliest messages)\n",
    "    beginning_offsets = consumer.beginning_offsets(tps)\n",
    "\n",
    "    # Calculate total\n",
    "    total = sum(end_offsets[tp] - beginning_offsets[tp] for tp in tps)\n",
    "\n",
    "    consumer.close()\n",
    "    return total"
   ]
  },
  {
   "cell_type": "code",
   "execution_count": null,
   "metadata": {},
   "outputs": [
    {
     "data": {
      "text/plain": [
       "60"
      ]
     },
     "execution_count": 8,
     "metadata": {},
     "output_type": "execute_result"
    }
   ],
   "source": [
    "quick_topic_count(\"cdc\")"
   ]
  }
 ],
 "metadata": {
  "kernelspec": {
   "display_name": "Python 3 (ipykernel)",
   "language": "python",
   "name": "python3"
  },
  "language_info": {
   "codemirror_mode": {
    "name": "ipython",
    "version": 3
   },
   "file_extension": ".py",
   "mimetype": "text/x-python",
   "name": "python",
   "nbconvert_exporter": "python",
   "pygments_lexer": "ipython3",
   "version": "3.10.12"
  }
 },
 "nbformat": 4,
 "nbformat_minor": 4
}
