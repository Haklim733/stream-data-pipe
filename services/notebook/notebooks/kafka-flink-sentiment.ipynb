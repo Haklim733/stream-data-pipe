{
 "cells": [
  {
   "cell_type": "markdown",
   "id": "9d45b779",
   "metadata": {},
   "source": [
    "In this notebook, you can consume and see the output of the messages of the kafka topics produced in the scripts/run-flink-sentiment.sh. Execute the `./scripts/run-flink-sentiment.sh` script at the project root after creating table below."
   ]
  },
  {
   "cell_type": "code",
   "execution_count": null,
   "id": "553589a5-4488-4dba-80bc-f23f5c9aedaf",
   "metadata": {},
   "outputs": [],
   "source": [
    "# jupyterlab_vim"
   ]
  },
  {
   "cell_type": "code",
   "execution_count": null,
   "id": "d5ca8286",
   "metadata": {},
   "outputs": [],
   "source": [
    "from kafka import KafkaConsumer\n",
    "from kafka.admin import KafkaAdminClient\n",
    "from kafka import KafkaConsumer\n",
    "from pyiceberg.catalog import load_catalog\n",
    "from pyiceberg.schema import Schema\n",
    "from pyiceberg.types import (\n",
    "    TimestampType,\n",
    "    Field,\n",
    "    FloatType,\n",
    "    DoubleType,\n",
    "    LongType,\n",
    "    StringType,\n",
    "    NestedField,\n",
    "    StructType,\n",
    ")"
   ]
  },
  {
   "cell_type": "code",
   "execution_count": null,
   "id": "4f22c8fe-84fe-4987-a656-63f968d77c97",
   "metadata": {},
   "outputs": [],
   "source": [
    "catalog = load_catalog('iceberg', **{\n",
    "    'uri': 'http://iceberg-rest:8181',\n",
    "    'warehouse': 's3a://iceberg/wh',\n",
    "    's3.endpoint': 'http://minio:9000',\n",
    "    's3.path-style-access': 'true',\n",
    "    \"py-io-impl\": \"pyiceberg.io.pyarrow.PyArrowFileIO\",\n",
    "    \"s3.access-key-id\": \"admin\",\n",
    "    \"s3.secret-access-key\": \"password\",\n",
    "    })"
   ]
  },
  {
   "cell_type": "code",
   "execution_count": null,
   "id": "45bc1127-e5dc-438d-8b79-e7dca8711300",
   "metadata": {},
   "outputs": [],
   "source": [
    "ns = 'flink'\n",
    "table_name = f\"{ns}.sentiment\"\n",
    "catalog.create_namespace_if_not_exists(ns)\n",
    "schema = Schema(\n",
    "    NestedField(1, \"message\", StringType()),\n",
    "    NestedField(2, \"sentiment\", StringType()),\n",
    "    NestedField(3, \"timestamp\", LongType()),\n",
    "    NestedField(4, \"processed_at\", StringType()),\n",
    ")\n",
    "#catalog.drop_table('flink.sentiment')\n",
    "catalog.create_table(\n",
    "    identifier=table_name,\n",
    "    schema=schema,\n",
    "    location=\"s3://iceberg/wh/\",\n",
    ")"
   ]
  },
  {
   "cell_type": "code",
   "execution_count": null,
   "id": "fd976ac8-d708-4abb-9571-b62aece29112",
   "metadata": {},
   "outputs": [],
   "source": [
    "!!!!Now,Execute the `./scripts/run-flink-sentiment.sh` script at the project root."
   ]
  },
  {
   "cell_type": "markdown",
   "id": "960bf2d5",
   "metadata": {},
   "source": [
    "## input into kafka source topic\n"
   ]
  },
  {
   "cell_type": "code",
   "execution_count": null,
   "id": "7e6d8fb1-69ef-4eed-a5ec-a99a8fba1850",
   "metadata": {},
   "outputs": [],
   "source": [
    "# verify messages in topic\n",
    "bootstrap_servers = \"kafka-broker:9092\"\n",
    "\n",
    "admin_client = KafkaAdminClient(\n",
    "    bootstrap_servers=bootstrap_servers,\n",
    "    client_id=\"demo\",\n",
    ")\n",
    "topic_name = \"message\"\n",
    "source_topic = KafkaConsumer(\n",
    "    topic_name,\n",
    "    bootstrap_servers=[\"kafka-broker:9092\"],\n",
    "    auto_offset_reset=\"earliest\",\n",
    "    enable_auto_commit=False,\n",
    ")\n",
    "\n",
    "batch = source_topic.poll(timeout_ms=1000)\n",
    "for partition, messages in batch.items():\n",
    "    for message in messages:\n",
    "        print(message.value.decode(\"utf-8\"))\n",
    "source_topic.close()"
   ]
  },
  {
   "cell_type": "code",
   "execution_count": null,
   "id": "adc4c3c2",
   "metadata": {},
   "outputs": [],
   "source": [
    "## output of sentiment analysis"
   ]
  },
  {
   "cell_type": "code",
   "execution_count": null,
   "id": "a9f2c269-80ea-4f06-82c9-e578aae0069d",
   "metadata": {},
   "outputs": [],
   "source": [
    "result_topic = KafkaConsumer(\n",
    "    \"sentiment_analysis\",\n",
    "    bootstrap_servers=[\"kafka-broker:9092\"],\n",
    "    auto_offset_reset=\"earliest\",\n",
    "    enable_auto_commit=False,\n",
    ")\n",
    "\n",
    "result_batch = result_topic.poll(timeout_ms=1000)\n",
    "for partition, messages in result_batch.items():\n",
    "    for message in messages:\n",
    "        print(message.value.decode(\"utf-8\"))\n",
    "source_topic.close()"
   ]
  },
  {
   "cell_type": "code",
   "execution_count": null,
   "id": "58298a00",
   "metadata": {},
   "outputs": [],
   "source": [
    "\n",
    "if not catalog.table_exists(\"flink.sentiment\"):\n",
    "    raise\n",
    "table = catalog.load_table(table_name)"
   ]
  },
  {
   "cell_type": "code",
   "execution_count": null,
   "id": "cfd5e6bb-328a-4e8e-bb66-8f39222d5f7c",
   "metadata": {},
   "outputs": [],
   "source": [
    "df = table.scan(\n",
    "    limit=10,\n",
    ").to_pandas()\n",
    "df"
   ]
  }
 ],
 "metadata": {
  "kernelspec": {
   "display_name": "Python 3 (ipykernel)",
   "language": "python",
   "name": "python3"
  },
  "language_info": {
   "codemirror_mode": {
    "name": "ipython",
    "version": 3
   },
   "file_extension": ".py",
   "mimetype": "text/x-python",
   "name": "python",
   "nbconvert_exporter": "python",
   "pygments_lexer": "ipython3",
   "version": "3.12.11"
  }
 },
 "nbformat": 4,
 "nbformat_minor": 5
}
