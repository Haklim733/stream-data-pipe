{
 "cells": [
  {
   "cell_type": "markdown",
   "id": "9d45b779",
   "metadata": {},
   "source": [
    "In this notebook, you can consume and see the output of the messages of the kafka topics produced in the script/run-sentiment.sh. Execute the `./kafka-flink-sentiment.sh` script at the project root first.\n"
   ]
  },
  {
   "cell_type": "code",
   "execution_count": null,
   "id": "553589a5-4488-4dba-80bc-f23f5c9aedaf",
   "metadata": {},
   "outputs": [],
   "source": [
    "# jupyterlab_vim"
   ]
  },
  {
   "cell_type": "code",
   "execution_count": null,
   "id": "d5ca8286",
   "metadata": {},
   "outputs": [],
   "source": [
    "from kafka import KafkaConsumer\n",
    "from kafka.admin import KafkaAdminClient\n",
    "\n",
    "bootstrap_servers = \"kafka-broker:9092\"\n",
    "\n",
    "admin_client = KafkaAdminClient(\n",
    "    bootstrap_servers=bootstrap_servers,\n",
    "    client_id=\"demo\",\n",
    ")"
   ]
  },
  {
   "cell_type": "markdown",
   "id": "960bf2d5",
   "metadata": {},
   "source": [
    "## input into kafka source topic\n"
   ]
  },
  {
   "cell_type": "code",
   "execution_count": null,
   "id": "7e6d8fb1-69ef-4eed-a5ec-a99a8fba1850",
   "metadata": {},
   "outputs": [],
   "source": [
    "topic_name = \"sentiment\"\n",
    "source_topic = KafkaConsumer(\n",
    "    topic_name,\n",
    "    bootstrap_servers=[\"kafka-broker:9092\"],\n",
    "    auto_offset_reset=\"earliest\",\n",
    "    enable_auto_commit=False,\n",
    ")\n",
    "\n",
    "batch = source_topic.poll(timeout_ms=1000)\n",
    "for partition, messages in batch.items():\n",
    "    for message in messages:\n",
    "        print(message.value.decode(\"utf-8\"))\n",
    "source_topic.close()"
   ]
  },
  {
   "cell_type": "code",
   "execution_count": null,
   "id": "adc4c3c2",
   "metadata": {},
   "outputs": [],
   "source": [
    "## output of sentiment analysis"
   ]
  },
  {
   "cell_type": "code",
   "execution_count": null,
   "id": "a9f2c269-80ea-4f06-82c9-e578aae0069d",
   "metadata": {},
   "outputs": [],
   "source": [
    "result_topic = KafkaConsumer(\n",
    "    \"sentiment_analysis\",\n",
    "    bootstrap_servers=[\"kafka-broker:9092\"],\n",
    "    auto_offset_reset=\"earliest\",\n",
    "    enable_auto_commit=False,\n",
    ")\n",
    "\n",
    "result_batch = result_topic.poll(timeout_ms=1000)\n",
    "for partition, messages in result_batch.items():\n",
    "    for message in messages:\n",
    "        print(message.value.decode(\"utf-8\"))\n",
    "source_topic.close()"
   ]
  }
 ],
 "metadata": {
  "kernelspec": {
   "display_name": "Python 3 (ipykernel)",
   "language": "python",
   "name": "python3"
  },
  "language_info": {
   "codemirror_mode": {
    "name": "ipython",
    "version": 3
   },
   "file_extension": ".py",
   "mimetype": "text/x-python",
   "name": "python",
   "nbconvert_exporter": "python",
   "pygments_lexer": "ipython3",
   "version": "3.10.12"
  }
 },
 "nbformat": 4,
 "nbformat_minor": 5
}
