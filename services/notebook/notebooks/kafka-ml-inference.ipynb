{
 "cells": [
  {
   "cell_type": "markdown",
   "id": "b86def0b",
   "metadata": {},
   "source": [
    "The 'ml' service should be up and running waiting to consume messages from the KAFKA_CONSUMER_TOPIC set in the docker-compose.yaml file for the 'ml' service. Run the bash script below and see the outputs.\n"
   ]
  },
  {
   "cell_type": "code",
   "execution_count": null,
   "id": "553589a5-4488-4dba-80bc-f23f5c9aedaf",
   "metadata": {},
   "outputs": [],
   "source": [
    "# jupyterlab_vim"
   ]
  },
  {
   "cell_type": "code",
   "execution_count": null,
   "id": "4ed456aa-4d10-4817-938a-063303a3e051",
   "metadata": {},
   "outputs": [],
   "source": [
    "create topic for ml service to publish to"
   ]
  },
  {
   "cell_type": "code",
   "execution_count": null,
   "id": "339a3b37-79cd-46dc-b500-ae4da894972f",
   "metadata": {},
   "outputs": [],
   "source": [
    "! python /home/app/kafka/src/create_topic.py --topic=book_emotions"
   ]
  },
  {
   "cell_type": "code",
   "execution_count": null,
   "id": "c91f8d8b-c145-47c3-8d82-3f602788fd00",
   "metadata": {},
   "outputs": [],
   "source": [
    "# create and publish source topic for ml service to ingest from"
   ]
  },
  {
   "cell_type": "code",
   "execution_count": null,
   "id": "4ec971d0",
   "metadata": {},
   "outputs": [],
   "source": [
    "! python /home/app/kafka/src/create_topic.py --topic=book --file=/home/app/data/brothers-karamazov.txt --format=json"
   ]
  },
  {
   "cell_type": "code",
   "execution_count": null,
   "id": "adc4c3c2",
   "metadata": {},
   "outputs": [],
   "source": [
    "## output of ml inference\n",
    "from kafka import KafkaConsumer\n",
    "from kafka.admin import KafkaAdminClient\n",
    "\n",
    "bootstrap_servers = \"kafka-broker:9092\"\n",
    "\n",
    "admin_client = KafkaAdminClient(\n",
    "    bootstrap_servers=bootstrap_servers,\n",
    "    client_id=\"demo\",\n",
    ")"
   ]
  },
  {
   "cell_type": "code",
   "execution_count": null,
   "id": "a9f2c269-80ea-4f06-82c9-e578aae0069d",
   "metadata": {
    "scrolled": true
   },
   "outputs": [],
   "source": [
    "producer_topic = os.getenv(\"KAFKA_PRODUCER_TOPIC\", \"book_emotions\")\n",
    "producer_topic = KafkaConsumer(\n",
    "    producer_topic,\n",
    "    bootstrap_servers=[\"kafka-broker:9092\"],\n",
    "    auto_offset_reset=\"earliest\",\n",
    "    enable_auto_commit=False,\n",
    ")\n",
    "\n",
    "result_batch = producer_topic.poll(timeout_ms=1000)\n",
    "for partition, messages in result_batch.items():\n",
    "    for message in messages:\n",
    "        print(message.value.decode(\"utf-8\"))\n",
    "producer_topic.close()"
   ]
  },
  {
   "cell_type": "code",
   "execution_count": null,
   "id": "a7fde11d-3bc0-4ea8-acd3-489e7ea63d22",
   "metadata": {},
   "outputs": [],
   "source": [
    "# ingest this new topic into rising wave for further analysis"
   ]
  },
  {
   "cell_type": "code",
   "execution_count": null,
   "id": "cbf7b895-9917-4a1e-9ed4-a3288976201f",
   "metadata": {},
   "outputs": [],
   "source": [
    "! export PYTHONPATH=../risingwave:$PYTHONPATH && python ../risingwave/src/main.py --topic='book_emotions' --bootstrap-servers='kafka-broker:9092' --schema='{\"emotion\": \"VARCHAR\", \"text\": \"VARCHAR\", \"line\": \"INTEGER\"}' --source=kafka"
   ]
  },
  {
   "cell_type": "code",
   "execution_count": null,
   "id": "c7f42ab3-f601-4083-a9fd-9980799b0f59",
   "metadata": {},
   "outputs": [],
   "source": [
    "import psycopg2\n",
    "import pandas as pd\n",
    "\n",
    "conn = psycopg2.connect(host=\"risingwave\", port=4566, user=\"root\", dbname=\"dev\")\n",
    "conn.autocommit = True\n",
    "\n",
    "with conn.cursor() as cur:\n",
    "    cur.execute(\n",
    "        \"SELECT kafka_timestamp, line, text, emotion FROM book_emotions LIMIT 10;\"\n",
    "    )\n",
    "    values = cur.fetchall()"
   ]
  },
  {
   "cell_type": "code",
   "execution_count": null,
   "id": "3fc8428d-0790-45c3-a024-f8b00d628ec1",
   "metadata": {},
   "outputs": [],
   "source": [
    "df = pd.DataFrame(values, columns=[\"timestamp\", \"line\", \"text\", \"emotion\"])\n",
    "print(df.tail())"
   ]
  },
  {
   "cell_type": "code",
   "execution_count": null,
   "id": "24cfbd48-5899-4e75-b1e4-c172486febbe",
   "metadata": {},
   "outputs": [],
   "source": [
    "with conn.cursor() as cur:\n",
    "    cur.execute(\n",
    "        \"SELECT emotion, count(*) FROM book_emotions group by emotion order by emotion;\"\n",
    "    )\n",
    "    values = cur.fetchall()\n",
    "summary = pd.DataFrame(values, columns=[\"emotion\", \"count\"])"
   ]
  },
  {
   "cell_type": "code",
   "execution_count": null,
   "id": "15d1f9bb-1f0c-41b6-83da-d333fc57ffe0",
   "metadata": {},
   "outputs": [],
   "source": [
    "summary[\"count\"].sum()"
   ]
  },
  {
   "cell_type": "code",
   "execution_count": null,
   "id": "26061157-8d4e-4d2b-810d-792ddfbc8b3f",
   "metadata": {},
   "outputs": [],
   "source": []
  }
 ],
 "metadata": {
  "kernelspec": {
   "display_name": "Python 3 (ipykernel)",
   "language": "python",
   "name": "python3"
  },
  "language_info": {
   "codemirror_mode": {
    "name": "ipython",
    "version": 3
   },
   "file_extension": ".py",
   "mimetype": "text/x-python",
   "name": "python",
   "nbconvert_exporter": "python",
   "pygments_lexer": "ipython3",
   "version": "3.10.12"
  }
 },
 "nbformat": 4,
 "nbformat_minor": 5
}
