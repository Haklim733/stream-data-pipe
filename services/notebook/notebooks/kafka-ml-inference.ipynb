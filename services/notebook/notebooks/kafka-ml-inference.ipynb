{
 "cells": [
  {
   "cell_type": "markdown",
   "id": "b86def0b",
   "metadata": {},
   "source": [
    "The 'ml' service should be up and running waiting to consume messages from the KAFKA_CONSUMER_TOPIC set in the docker-compose.yaml file for the 'ml' service. Run the bash script below and see the outputs.\n"
   ]
  },
  {
   "cell_type": "code",
   "execution_count": null,
   "id": "553589a5-4488-4dba-80bc-f23f5c9aedaf",
   "metadata": {},
   "outputs": [],
   "source": [
    "# jupyterlab_vim"
   ]
  },
  {
   "cell_type": "code",
   "execution_count": null,
   "id": "4ec971d0",
   "metadata": {},
   "outputs": [],
   "source": [
    "! python /home/app/kafka/src/create_topic.py --topic=book --file=/home/app/data/brothers-karamazov.txt --format=json"
   ]
  },
  {
   "cell_type": "code",
   "execution_count": null,
   "id": "adc4c3c2",
   "metadata": {},
   "outputs": [],
   "source": [
    "## output of ml inference\n",
    "from kafka import KafkaConsumer\n",
    "from kafka.admin import KafkaAdminClient\n",
    "\n",
    "bootstrap_servers = \"kafka-broker:9092\"\n",
    "\n",
    "admin_client = KafkaAdminClient(\n",
    "    bootstrap_servers=bootstrap_servers,\n",
    "    client_id=\"demo\",\n",
    ")"
   ]
  },
  {
   "cell_type": "code",
   "execution_count": null,
   "id": "a9f2c269-80ea-4f06-82c9-e578aae0069d",
   "metadata": {},
   "outputs": [],
   "source": [
    "producer_topic = os.getenv(\"KAFKA_PRODUCER_TOPIC\", \"book_emotions\")\n",
    "producer_topic = KafkaConsumer(\n",
    "    producer_topic,\n",
    "    bootstrap_servers=[\"kafka-broker:9092\"],\n",
    "    auto_offset_reset=\"earliest\",\n",
    "    enable_auto_commit=False,\n",
    ")\n",
    "\n",
    "result_batch = producer_topic.poll(timeout_ms=1000)\n",
    "for partition, messages in result_batch.items():\n",
    "    for message in messages:\n",
    "        print(message.value.decode(\"utf-8\"))\n",
    "producer_topic.close()"
   ]
  }
 ],
 "metadata": {
  "kernelspec": {
   "display_name": "Python 3 (ipykernel)",
   "language": "python",
   "name": "python3"
  },
  "language_info": {
   "codemirror_mode": {
    "name": "ipython",
    "version": 3
   },
   "file_extension": ".py",
   "mimetype": "text/x-python",
   "name": "python",
   "nbconvert_exporter": "python",
   "pygments_lexer": "ipython3",
   "version": "3.10.12"
  }
 },
 "nbformat": 4,
 "nbformat_minor": 5
}
